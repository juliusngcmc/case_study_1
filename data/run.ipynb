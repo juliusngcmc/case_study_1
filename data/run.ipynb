{
 "cells": [
  {
   "cell_type": "code",
   "execution_count": 1,
   "id": "3262d412-ac77-4fba-940c-4eba214223a8",
   "metadata": {
    "pycharm": {
     "name": "#%%\n"
    }
   },
   "outputs": [
    {
     "name": "stdout",
     "output_type": "stream",
     "text": [
      "Requirement already satisfied: pyspark in /usr/local/spark-3.3.0-bin-hadoop3/python (3.3.0)\n",
      "Collecting py4j==0.10.9.5\n",
      "  Downloading py4j-0.10.9.5-py2.py3-none-any.whl (199 kB)\n",
      "\u001B[2K     \u001B[90m━━━━━━━━━━━━━━━━━━━━━━━━━━━━━━━━━━━━━━━\u001B[0m \u001B[32m199.7/199.7 kB\u001B[0m \u001B[31m2.8 MB/s\u001B[0m eta \u001B[36m0:00:00\u001B[0ma \u001B[36m0:00:01\u001B[0m\n",
      "\u001B[?25hInstalling collected packages: py4j\n",
      "Successfully installed py4j-0.10.9.5\n"
     ]
    }
   ],
   "source": [
    "!pip install pyspark"
   ]
  },
  {
   "cell_type": "code",
   "execution_count": 2,
   "id": "e5f20897-ec44-4af0-9dbc-39f7b64563d4",
   "metadata": {
    "pycharm": {
     "name": "#%%\n"
    }
   },
   "outputs": [],
   "source": [
    "from pyspark.sql import SparkSession\n",
    "from pyspark.sql.functions import *\n",
    "\n",
    "spark = SparkSession \\\n",
    "    .builder \\\n",
    "    .appName(\"Python Spark SQL basic example\") \\\n",
    "    .config(\"spark.jar\", \"/home/jovyan/work/postgresql-42.5.0.jar\") \\\n",
    "    .config(\"spark.executor.extraClassPath\", \"/home/jovyan/work/postgresql-42.5.0.jar\") \\\n",
    "    .master(\"local[*]\") \\\n",
    "    .appName(\"PySpark_Postgres_test\").getOrCreate()\n",
    "\n",
    "# spark = SparkSession.builder.master('local[*]').\\\n",
    "#             appName('my-cool-app').\\\n",
    "#             getOrCreate()"
   ]
  },
  {
   "cell_type": "code",
   "execution_count": 3,
   "id": "2d7c756b-f189-4e4b-ad75-263fdda99d54",
   "metadata": {
    "pycharm": {
     "name": "#%%\n"
    }
   },
   "outputs": [],
   "source": [
    "# df = spark.read \\\n",
    "#     .format(\"jdbc\") \\\n",
    "#     .options(\n",
    "#     url = \"jdbc:postgresql://localhost:5431/postgres\",\n",
    "#     dbtable = \"sensor_value\",\n",
    "#     user = \"postgres\",\n",
    "#     password = \"mypass\",\n",
    "#     driver = \"org.postgresql.Driver\"\n",
    "# ).load()"
   ]
  },
  {
   "cell_type": "code",
   "execution_count": 4,
   "id": "17a44c49-b15d-449e-8778-097279202c2c",
   "metadata": {
    "pycharm": {
     "name": "#%%\n"
    }
   },
   "outputs": [],
   "source": [
    "df = spark.read.csv(\"sensor_value.csv\", header='true')"
   ]
  },
  {
   "cell_type": "code",
   "execution_count": 5,
   "id": "d9788c9e-d6bb-4d19-bcc0-ad3759f8bfcf",
   "metadata": {
    "pycharm": {
     "name": "#%%\n"
    }
   },
   "outputs": [
    {
     "name": "stdout",
     "output_type": "stream",
     "text": [
      "root\n",
      " |-- sensor_id: string (nullable = true)\n",
      " |-- timestamp: string (nullable = true)\n",
      " |-- sensor_type: string (nullable = true)\n",
      " |-- reading: string (nullable = true)\n",
      "\n"
     ]
    }
   ],
   "source": [
    "df.printSchema()"
   ]
  },
  {
   "cell_type": "code",
   "execution_count": 6,
   "id": "3d5b76c4-577c-4e06-a298-4d157a3bc68c",
   "metadata": {
    "pycharm": {
     "name": "#%%\n"
    }
   },
   "outputs": [
    {
     "name": "stdout",
     "output_type": "stream",
     "text": [
      "+---------+--------------------------+-----------+-------+\n",
      "|sensor_id|timestamp                 |sensor_type|reading|\n",
      "+---------+--------------------------+-----------+-------+\n",
      "|1        |2022-09-01 14:00:03.000000|Temperature|2000   |\n",
      "|1        |2022-09-01 14:00:33.000000|Humidity   |60     |\n",
      "|2        |2022-09-01 14:00:10.000000|Temperature|2500   |\n",
      "|2        |2022-09-01 14:00:28.000000|Humidity   |75     |\n",
      "|1        |2022-09-01 14:15:03.000000|Temperature|3500   |\n",
      "|1        |2022-09-01 14:15:33.000000|Humidity   |45     |\n",
      "|2        |2022-09-01 14:15:10.000000|Temperature|1000   |\n",
      "|2        |2022-09-01 14:15:28.000000|Humidity   |19     |\n",
      "|1        |2022-09-01 14:30:03.000000|Temperature|5500   |\n",
      "|1        |2022-09-01 14:30:33.000000|Humidity   |999    |\n",
      "|2        |2022-09-01 14:30:10.000000|Temperature|4500   |\n",
      "|2        |2022-09-01 14:30:28.000000|Humidity   |56     |\n",
      "|1        |2022-09-01 14:45:03.000000|Temperature|1500   |\n",
      "|1        |2022-09-01 14:45:33.000000|Humidity   |80     |\n",
      "|2        |2022-09-01 14:45:10.000000|Temperature|5600   |\n",
      "|2        |2022-09-01 14:45:28.000000|Humidity   |-100   |\n",
      "|1        |2022-09-01 15:00:03.000000|Temperature|4900   |\n",
      "|1        |2022-09-01 15:00:33.000000|Humidity   |11     |\n",
      "|2        |2022-09-01 15:00:10.000000|Temperature|2900   |\n",
      "|2        |2022-09-01 15:00:28.000000|Humidity   |64     |\n",
      "+---------+--------------------------+-----------+-------+\n",
      "only showing top 20 rows\n",
      "\n"
     ]
    }
   ],
   "source": [
    "df.show(truncate=False)"
   ]
  },
  {
   "cell_type": "code",
   "execution_count": 7,
   "id": "a5e9c29f-2fc1-4e6d-9f06-cf3ecb616925",
   "metadata": {
    "pycharm": {
     "name": "#%%\n"
    }
   },
   "outputs": [
    {
     "name": "stdout",
     "output_type": "stream",
     "text": [
      "+---------+--------------------------+-----------+-------+\n",
      "|sensor_id|timestamp                 |sensor_type|reading|\n",
      "+---------+--------------------------+-----------+-------+\n",
      "|1        |2022-09-01 14:00:33.000000|Humidity   |60.0   |\n",
      "|2        |2022-09-01 14:00:28.000000|Humidity   |75.0   |\n",
      "|1        |2022-09-01 14:15:33.000000|Humidity   |45.0   |\n",
      "|2        |2022-09-01 14:15:28.000000|Humidity   |19.0   |\n",
      "|2        |2022-09-01 14:30:28.000000|Humidity   |56.0   |\n",
      "|1        |2022-09-01 14:45:33.000000|Humidity   |80.0   |\n",
      "|1        |2022-09-01 15:00:33.000000|Humidity   |11.0   |\n",
      "|2        |2022-09-01 15:00:28.000000|Humidity   |64.0   |\n",
      "|1        |2022-09-01 15:15:33.000000|Humidity   |85.0   |\n",
      "|2        |2022-09-01 15:15:28.000000|Humidity   |46.0   |\n",
      "|2        |2022-09-01 15:30:28.000000|Humidity   |56.0   |\n",
      "|1        |2022-09-01 15:45:33.000000|Humidity   |80.0   |\n",
      "+---------+--------------------------+-----------+-------+\n",
      "\n"
     ]
    }
   ],
   "source": [
    "# Ignore Humidity value that is negative or greater than 100\n",
    "df_humid = df.filter((df.sensor_type == \"Humidity\") & (df.reading > 0) & (df.reading < 100)).withColumn('reading', df.reading*1)\n",
    "df_humid.show(truncate=False)"
   ]
  },
  {
   "cell_type": "code",
   "execution_count": 8,
   "id": "5ecc9136-4d1d-43ce-b3ba-eafe2f8088ef",
   "metadata": {
    "pycharm": {
     "name": "#%%\n"
    }
   },
   "outputs": [
    {
     "name": "stdout",
     "output_type": "stream",
     "text": [
      "+---------+--------------------------+-----------+-------+\n",
      "|sensor_id|timestamp                 |sensor_type|reading|\n",
      "+---------+--------------------------+-----------+-------+\n",
      "|1        |2022-09-01 14:00:03.000000|Temperature|20.0   |\n",
      "|2        |2022-09-01 14:00:10.000000|Temperature|25.0   |\n",
      "|1        |2022-09-01 14:15:03.000000|Temperature|35.0   |\n",
      "|2        |2022-09-01 14:15:10.000000|Temperature|10.0   |\n",
      "|1        |2022-09-01 14:30:03.000000|Temperature|55.0   |\n",
      "|2        |2022-09-01 14:30:10.000000|Temperature|45.0   |\n",
      "|1        |2022-09-01 14:45:03.000000|Temperature|15.0   |\n",
      "|2        |2022-09-01 14:45:10.000000|Temperature|56.0   |\n",
      "|1        |2022-09-01 15:00:03.000000|Temperature|49.0   |\n",
      "|2        |2022-09-01 15:00:10.000000|Temperature|29.0   |\n",
      "|1        |2022-09-01 15:15:03.000000|Temperature|11.0   |\n",
      "|2        |2022-09-01 15:15:10.000000|Temperature|22.0   |\n",
      "|1        |2022-09-01 15:30:03.000000|Temperature|55.0   |\n",
      "|2        |2022-09-01 15:30:10.000000|Temperature|45.0   |\n",
      "|1        |2022-09-01 15:45:03.000000|Temperature|15.0   |\n",
      "|2        |2022-09-01 15:45:10.000000|Temperature|56.0   |\n",
      "+---------+--------------------------+-----------+-------+\n",
      "\n"
     ]
    }
   ],
   "source": [
    "# Temperature on a normal scale (2000 means 20)\n",
    "df_temp = df.filter(df.sensor_type == \"Temperature\").withColumn('reading', df.reading/100)\n",
    "df_temp.show(truncate=False)"
   ]
  },
  {
   "cell_type": "code",
   "execution_count": 9,
   "id": "0442a965-df07-4dd9-98a0-738562ce6dae",
   "metadata": {
    "pycharm": {
     "name": "#%%\n"
    }
   },
   "outputs": [
    {
     "name": "stdout",
     "output_type": "stream",
     "text": [
      "+---------+--------------------------+-----------+-------+\n",
      "|sensor_id|timestamp                 |sensor_type|reading|\n",
      "+---------+--------------------------+-----------+-------+\n",
      "|1        |2022-09-01 14:00:03.000000|Temperature|20.0   |\n",
      "|2        |2022-09-01 14:00:10.000000|Temperature|25.0   |\n",
      "|2        |2022-09-01 14:00:28.000000|Humidity   |75.0   |\n",
      "|1        |2022-09-01 14:00:33.000000|Humidity   |60.0   |\n",
      "|1        |2022-09-01 14:15:03.000000|Temperature|35.0   |\n",
      "|2        |2022-09-01 14:15:10.000000|Temperature|10.0   |\n",
      "|2        |2022-09-01 14:15:28.000000|Humidity   |19.0   |\n",
      "|1        |2022-09-01 14:15:33.000000|Humidity   |45.0   |\n",
      "|1        |2022-09-01 14:30:03.000000|Temperature|55.0   |\n",
      "|2        |2022-09-01 14:30:10.000000|Temperature|45.0   |\n",
      "|2        |2022-09-01 14:30:28.000000|Humidity   |56.0   |\n",
      "|1        |2022-09-01 14:45:03.000000|Temperature|15.0   |\n",
      "|2        |2022-09-01 14:45:10.000000|Temperature|56.0   |\n",
      "|1        |2022-09-01 14:45:33.000000|Humidity   |80.0   |\n",
      "|1        |2022-09-01 15:00:03.000000|Temperature|49.0   |\n",
      "|2        |2022-09-01 15:00:10.000000|Temperature|29.0   |\n",
      "|2        |2022-09-01 15:00:28.000000|Humidity   |64.0   |\n",
      "|1        |2022-09-01 15:00:33.000000|Humidity   |11.0   |\n",
      "|1        |2022-09-01 15:15:03.000000|Temperature|11.0   |\n",
      "|2        |2022-09-01 15:15:10.000000|Temperature|22.0   |\n",
      "+---------+--------------------------+-----------+-------+\n",
      "only showing top 20 rows\n",
      "\n"
     ]
    }
   ],
   "source": [
    "# Union Temperature and Humidity dataframe\n",
    "df_all = df_temp.union(df_humid).orderBy(\"timestamp\",\"sensor_id\")\n",
    "df_all.show(truncate=False)"
   ]
  },
  {
   "cell_type": "code",
   "execution_count": 10,
   "id": "73a48678-4b0d-403d-86e7-d19532520819",
   "metadata": {
    "pycharm": {
     "name": "#%%\n"
    }
   },
   "outputs": [
    {
     "name": "stdout",
     "output_type": "stream",
     "text": [
      "+--------------+------------------------------------------+----+\n",
      "|temp_sensor_id|temp_time                                 |T   |\n",
      "+--------------+------------------------------------------+----+\n",
      "|2             |{2022-09-01 15:30:00, 2022-09-01 16:00:00}|50.5|\n",
      "|1             |{2022-09-01 14:30:00, 2022-09-01 15:00:00}|35.0|\n",
      "|2             |{2022-09-01 14:00:00, 2022-09-01 14:30:00}|17.5|\n",
      "|2             |{2022-09-01 14:30:00, 2022-09-01 15:00:00}|50.5|\n",
      "|2             |{2022-09-01 15:00:00, 2022-09-01 15:30:00}|25.5|\n",
      "|1             |{2022-09-01 15:30:00, 2022-09-01 16:00:00}|35.0|\n",
      "|1             |{2022-09-01 14:00:00, 2022-09-01 14:30:00}|27.5|\n",
      "|1             |{2022-09-01 15:00:00, 2022-09-01 15:30:00}|30.0|\n",
      "+--------------+------------------------------------------+----+\n",
      "\n"
     ]
    }
   ],
   "source": [
    "# Calculate the haft - hourly median temperature\n",
    "temp_median = df_temp.groupBy(\"sensor_id\", window(\"timestamp\", \"30 minutes\")).mean(\"reading\")\n",
    "temp_median = temp_median.withColumnRenamed(\"window\",\"temp_time\") \\\n",
    "    .withColumnRenamed(\"avg(reading)\",\"T\") \\\n",
    "    .withColumnRenamed(\"sensor_id\",\"temp_sensor_id\")\n",
    "temp_median.show(truncate=False)"
   ]
  },
  {
   "cell_type": "code",
   "execution_count": 11,
   "id": "d85a2cbf-3031-49fe-b8fe-db203fba9c02",
   "metadata": {
    "pycharm": {
     "name": "#%%\n"
    }
   },
   "outputs": [
    {
     "name": "stdout",
     "output_type": "stream",
     "text": [
      "+---------------+------------------------------------------+----+\n",
      "|humid_sensor_id|humid_time                                |RH  |\n",
      "+---------------+------------------------------------------+----+\n",
      "|2              |{2022-09-01 15:30:00, 2022-09-01 16:00:00}|56.0|\n",
      "|1              |{2022-09-01 14:30:00, 2022-09-01 15:00:00}|80.0|\n",
      "|2              |{2022-09-01 14:00:00, 2022-09-01 14:30:00}|47.0|\n",
      "|2              |{2022-09-01 14:30:00, 2022-09-01 15:00:00}|56.0|\n",
      "|2              |{2022-09-01 15:00:00, 2022-09-01 15:30:00}|55.0|\n",
      "|1              |{2022-09-01 15:30:00, 2022-09-01 16:00:00}|80.0|\n",
      "|1              |{2022-09-01 14:00:00, 2022-09-01 14:30:00}|52.5|\n",
      "|1              |{2022-09-01 15:00:00, 2022-09-01 15:30:00}|48.0|\n",
      "+---------------+------------------------------------------+----+\n",
      "\n"
     ]
    }
   ],
   "source": [
    "# Calculate the haft - hourly median humidity\n",
    "humid_median = df_humid.groupBy(\"sensor_id\", window(\"timestamp\", \"30 minutes\")).mean(\"reading\")\n",
    "humid_median = humid_median.withColumnRenamed(\"window\",\"humid_time\") \\\n",
    "    .withColumnRenamed(\"avg(reading)\",\"RH\") \\\n",
    "    .withColumnRenamed(\"sensor_id\",\"humid_sensor_id\")\n",
    "humid_median.show(truncate=False)"
   ]
  },
  {
   "cell_type": "code",
   "execution_count": 12,
   "id": "5e2af9b1-0780-48df-a4e8-0f578e7ef20d",
   "metadata": {
    "pycharm": {
     "name": "#%%\n"
    }
   },
   "outputs": [
    {
     "name": "stdout",
     "output_type": "stream",
     "text": [
      "+---------+------------------------------------------+----+----+---------+\n",
      "|sensor_id|time                                      |RH  |T   |dew_point|\n",
      "+---------+------------------------------------------+----+----+---------+\n",
      "|2        |{2022-09-01 15:30:00, 2022-09-01 16:00:00}|56.0|50.5|41.7     |\n",
      "|1        |{2022-09-01 14:30:00, 2022-09-01 15:00:00}|80.0|35.0|31.0     |\n",
      "|2        |{2022-09-01 14:00:00, 2022-09-01 14:30:00}|47.0|17.5|6.9      |\n",
      "|2        |{2022-09-01 14:30:00, 2022-09-01 15:00:00}|56.0|50.5|41.7     |\n",
      "|2        |{2022-09-01 15:00:00, 2022-09-01 15:30:00}|55.0|25.5|16.5     |\n",
      "|1        |{2022-09-01 15:30:00, 2022-09-01 16:00:00}|80.0|35.0|31.0     |\n",
      "|1        |{2022-09-01 14:00:00, 2022-09-01 14:30:00}|52.5|27.5|18.0     |\n",
      "|1        |{2022-09-01 15:00:00, 2022-09-01 15:30:00}|48.0|30.0|19.6     |\n",
      "+---------+------------------------------------------+----+----+---------+\n",
      "\n"
     ]
    }
   ],
   "source": [
    "# Calculate the dew point\n",
    "\n",
    "dew_df = humid_median.join(temp_median,\n",
    "               (temp_median.temp_sensor_id == humid_median.humid_sensor_id) &\n",
    "               ( temp_median.temp_time == humid_median.humid_time),\n",
    "               \"inner\")\n",
    "dew_df = dew_df.withColumn('dew_point', dew_df.T+ (dew_df.RH-100)/5)\n",
    "dew_df = dew_df.drop(\"temp_sensor_id\",\"temp_time\") \\\n",
    "                .withColumnRenamed(\"humid_sensor_id\",\"sensor_id\") \\\n",
    "                 .withColumnRenamed(\"humid_time\",\"time\")\n",
    "dew_df.show(truncate=False)"
   ]
  },
  {
   "cell_type": "code",
   "execution_count": 15,
   "id": "3fcb2763-cb0c-48cc-a71c-05ec92b1e37b",
   "metadata": {
    "pycharm": {
     "name": "#%%\n"
    }
   },
   "outputs": [],
   "source": [
    "# save to csv the dew point\n",
    "dew_df.toPandas().to_csv('dew_point.csv', index=False)"
   ]
  }
 ],
 "metadata": {
  "kernelspec": {
   "display_name": "Python 3 (ipykernel)",
   "language": "python",
   "name": "python3"
  },
  "language_info": {
   "codemirror_mode": {
    "name": "ipython",
    "version": 3
   },
   "file_extension": ".py",
   "mimetype": "text/x-python",
   "name": "python",
   "nbconvert_exporter": "python",
   "pygments_lexer": "ipython3",
   "version": "3.10.6"
  }
 },
 "nbformat": 4,
 "nbformat_minor": 5
}